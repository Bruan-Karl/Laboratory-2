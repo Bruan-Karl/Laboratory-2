{
  "nbformat": 4,
  "nbformat_minor": 0,
  "metadata": {
    "colab": {
      "name": "201911167_LinAlg1_Bruan.ipynb",
      "provenance": [],
      "authorship_tag": "ABX9TyM58xJZZ3t4IerXY6afM3UG",
      "include_colab_link": true
    },
    "kernelspec": {
      "name": "python3",
      "display_name": "Python 3"
    }
  },
  "cells": [
    {
      "cell_type": "markdown",
      "metadata": {
        "id": "view-in-github",
        "colab_type": "text"
      },
      "source": [
        "<a href=\"https://colab.research.google.com/github/R0ckie/Laboratory-2/blob/main/201911167_LinAlg1_Bruan.ipynb\" target=\"_parent\"><img src=\"https://colab.research.google.com/assets/colab-badge.svg\" alt=\"Open In Colab\"/></a>"
      ]
    },
    {
      "cell_type": "code",
      "metadata": {
        "colab": {
          "base_uri": "https://localhost:8080/",
          "height": 640
        },
        "id": "9bootvzW0TrJ",
        "outputId": "a8107ee6-6cd3-44aa-d1c9-fbb4375a69b0"
      },
      "source": [
        "import numpy as np\n",
        "import matplotlib.pyplot as plt\n",
        "\n",
        "\n",
        "L = np.array([10,9])\n",
        "E = np.array([2,6])\n",
        "A = np.array([3,8])\n",
        "N = np.array([4,5])\n",
        "B = np.array([7,1])\n",
        "\n",
        "print(\"Vector 1 = \", L)\n",
        "print(\"Vector 2 = \", E)\n",
        "print(\"Vector 3 = \", A)\n",
        "print(\"Vector 4 = \", N)\n",
        "print(\"Vector 5 = \", B)\n",
        "\n",
        "print(\"**********************************************\")\n",
        "\n",
        "print('Combination of Addition and Subtraction')\n",
        "resultant = L + E + A - N - B\n",
        "print(resultant)\n",
        "\n",
        "print(\"**********************************************\")\n",
        "\n",
        "print(\"Combination of Division and Multiplication\")\n",
        "resultant2 = L * E * A // N // B\n",
        "print (resultant2)\n",
        "\n",
        "print(\"**********************************************\")\n",
        "print(\"Squaring & Square root\")\n",
        "\n",
        "resultant3 = np.square(L)\n",
        "resultant4 = np.sqrt(E)\n",
        "print(\"The square of Vector 1 \",L,\"is\" , resultant3)\n",
        "print(\"The square of Vector 2 is\" , E, \"is\", resultant4 )\n",
        "\n",
        "print(\"**********************************************\")\n",
        "print(\"Summation\")\n",
        "\n",
        "resultant5 = L + E + A + N + E\n",
        "print(\"The summation is\" , resultant5)\n",
        "\n",
        "#Visualizing the Vector\n",
        "print(\"**********************************************\")\n",
        "a = 2 #vector shape\n",
        "plt.title = (\"Vectors\")\n",
        "plt.xlim = (1, 100)\n",
        "plt.ylim = (1, 100)\n",
        "\n",
        "L = [10,9]\n",
        "E = [2,6]\n",
        "A = [3,8]\n",
        "N = [4,5]\n",
        "B = [7,1]\n",
        "\n",
        "plt.scatter(L[0], L[1], label=\"Vector L\", color=\"red\")\n",
        "plt.scatter(E[0], E[1], label=\"Vector E\", color=\"pink\")\n",
        "plt.scatter(A[0], A[1], label=\"Vector A\", color=\"violet\")\n",
        "plt.scatter(N[0], N[1], label=\"Vector N\", color=\"yellow\")\n",
        "plt.scatter(B[0], B[1], label=\"Vector B\", color=\"orange\")\n",
        "\n",
        "r1 = resultant\n",
        "r2 = resultant2\n",
        "r3 = resultant3\n",
        "r4 = resultant4\n",
        "r5 = resultant5\n",
        "\n",
        "plt.scatter(resultant[0], resultant[1], label=\"Vector Add & Subtract\", color=\"black\")\n",
        "plt.scatter(resultant2[0], resultant2[1], label=\"Vector Multiply & Divide\", color=\"indigo\")\n",
        "plt.scatter(resultant3[0], resultant3[1], label=\"Vector Square\", color=\"green\")\n",
        "plt.scatter(resultant4[0], resultant4[1], label=\"Vector Square root\", color=\"blue\")\n",
        "plt.scatter(resultant4[0], resultant4[1], label=\"Vector Summation\", color=\"darkred\")\n",
        "\n",
        "\n",
        "plt.quiver(0, 0, resultant[0], resultant[1], angles = 'xy', scale_units= 'xy', scale= 1, color= 'black')\n",
        "plt.quiver(0, 0, resultant2[0], resultant2[1], angles = 'xy', scale_units= 'xy', scale= 1, color= 'indigo' )\n",
        "plt.quiver(0,0, resultant3[0], resultant3[1], angles = 'xy', scale_units= 'xy', scale= 1, color= 'green')\n",
        "plt.quiver(0, 0, resultant4[0], resultant4[1], angles = 'xy', scale_units= 'xy', scale= 1, color= 'blue')\n",
        "plt.quiver(0, 0, resultant5[0], resultant5[1], angles = 'xy', scale_units= 'xy', scale= 1, color= 'darkred')\n",
        "\n",
        " \n",
        "plt.legend()\n",
        "plt.grid()\n",
        "plt.show()\n",
        "\n"
      ],
      "execution_count": 1,
      "outputs": [
        {
          "output_type": "stream",
          "text": [
            "Vector 1 =  [10  9]\n",
            "Vector 2 =  [2 6]\n",
            "Vector 3 =  [3 8]\n",
            "Vector 4 =  [4 5]\n",
            "Vector 5 =  [7 1]\n",
            "**********************************************\n",
            "Combination of Addition and Subtraction\n",
            "[ 4 17]\n",
            "**********************************************\n",
            "Combination of Division and Multiplication\n",
            "[ 2 86]\n",
            "**********************************************\n",
            "Squaring & Square root\n",
            "The square of Vector 1  [10  9] is [100  81]\n",
            "The square of Vector 2 is [2 6] is [1.41421356 2.44948974]\n",
            "**********************************************\n",
            "Summation\n",
            "The summation is [21 34]\n",
            "**********************************************\n"
          ],
          "name": "stdout"
        },
        {
          "output_type": "display_data",
          "data": {
            "image/png": "[encoded data removed]",
            "text/plain": [
              "<Figure size 432x288 with 1 Axes>"
            ]
          },
          "metadata": {
            "tags": [],
            "needs_background": "light"
          }
        },
        {
          "output_type": "execute_result",
          "data": {
            "application/vnd.google.colaboratory.intrinsic+json": {
              "type": "string"
            },
            "text/plain": [
              "'\\'\\'\\nA = np.array([-5,0])\\nB = np.array([0,5])\\n\\nplt.title(\"Resultant Vector\")\\n\\nplt.xlim(-15, 15)\\nplt.ylim(-15, 15)\\n# print(B)\\nplt.quiver(0,0, A[0], A[1], angles=\\'xy\\', scale_units=\\'xy\\',scale=1, color=\\'red\\') # Red --> A\\nplt.quiver(A[0], A[1], B[0], B[1],angles=\\'xy\\', scale_units=\\'xy\\',scale=1, color=\\'green\\')\\nR = A+B\\nplt.quiver(0, 0, R[0], R[1],angles=\\'xy\\', scale_units=\\'xy\\',scale=1, color=\\'orange\\')\\nplt.grid()\\nplt.show()\\n'"
            ]
          },
          "metadata": {
            "tags": []
          },
          "execution_count": 1
        }
      ]
    }
  ]
}